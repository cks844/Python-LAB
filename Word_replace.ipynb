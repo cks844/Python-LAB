{
 "cells": [
  {
   "cell_type": "code",
   "execution_count": 9,
   "id": "86b04b4a",
   "metadata": {},
   "outputs": [
    {
     "name": "stdout",
     "output_type": "stream",
     "text": [
      "Enter the sentence : My name is Python\n",
      "Enter word to be replaced : Python\n",
      "Enter the new word : C\n",
      " My name is C\n"
     ]
    }
   ],
   "source": [
    "a=input(\"Enter the sentence : \")\n",
    "old=input(\"Enter word to be replaced : \")\n",
    "new=input(\"Enter the new word : \")\n",
    "words=a.split()\n",
    "r=\"\"\n",
    "for i in words:\n",
    "    if(i==old):\n",
    "        r=r+\" \"+new\n",
    "    else:\n",
    "        r=r+\" \"+i\n",
    "print(r)"
   ]
  },
  {
   "cell_type": "code",
   "execution_count": null,
   "id": "5470c336",
   "metadata": {},
   "outputs": [],
   "source": []
  }
 ],
 "metadata": {
  "kernelspec": {
   "display_name": "Python 3 (ipykernel)",
   "language": "python",
   "name": "python3"
  },
  "language_info": {
   "codemirror_mode": {
    "name": "ipython",
    "version": 3
   },
   "file_extension": ".py",
   "mimetype": "text/x-python",
   "name": "python",
   "nbconvert_exporter": "python",
   "pygments_lexer": "ipython3",
   "version": "3.10.4"
  }
 },
 "nbformat": 4,
 "nbformat_minor": 5
}
